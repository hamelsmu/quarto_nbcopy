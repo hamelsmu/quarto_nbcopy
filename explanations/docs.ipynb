{
 "cells": [
  {
   "cell_type": "raw",
   "metadata": {},
   "source": [
    "---\n",
    "title: Docs Website\n",
    "description: How nbdev renders a documentation website for your project.\n",
    "---"
   ]
  },
  {
   "cell_type": "markdown",
   "metadata": {},
   "source": [
    "![](images/github-actions-pages.png){fig-align=\"center\" .border .rounded .shadow-sm}"
   ]
  },
  {
   "cell_type": "markdown",
   "metadata": {},
   "source": [
    "To read more about GitHub Actions, see [their docs](https://github.com/features/actions)."
   ]
  },
  {
   "cell_type": "code",
   "execution_count": null,
   "metadata": {},
   "outputs": [
    {
     "name": "stdout",
     "output_type": "stream",
     "text": [
      "\n",
      "  \u001b[1mUsage:\u001b[22m   \u001b[35mquarto publish \u001b[33m[\u001b[35m\u001b[35mprovider\u001b[35m\u001b[33m]\u001b[35m \u001b[33m[\u001b[35m\u001b[35mpath\u001b[35m\u001b[33m]\u001b[35m\u001b[39m\n",
      "  \u001b[1mVersion:\u001b[22m \u001b[33m1.1.75                          \n",
      "           \u001b[39m                                \n",
      "\n",
      "  \u001b[1mDescription:\u001b[22m\n",
      "\n",
      "    Publish a document or project. Available providers include:\n",
      "                                                               \n",
      "     - Quarto Pub (quarto-pub)                                 \n",
      "     - GitHub Pages (gh-pages)                                 \n",
      "     - RStudio Connect (connect)                               \n",
      "                                                               \n",
      "     - Netlify (netlify)                                       \n",
      "    Accounts are configured interactively during publishing.   \n",
      "    Manage/remove accounts with: quarto publish accounts       \n",
      "\n",
      "  \u001b[1mOptions:\u001b[22m\n",
      "\n",
      "    \u001b[34m-h\u001b[39m, \u001b[34m--help\u001b[39m              \u001b[31m\u001b[1m-\u001b[22m\u001b[39m Show this help.                                     \n",
      "    \u001b[34m--id\u001b[39m          \u001b[33m<\u001b[39m\u001b[35mid\u001b[39m\u001b[33m>\u001b[39m      \u001b[31m\u001b[1m-\u001b[22m\u001b[39m Identifier of content to publish                    \n",
      "    \u001b[34m--server\u001b[39m      \u001b[33m<\u001b[39m\u001b[35mserver\u001b[39m\u001b[33m>\u001b[39m  \u001b[31m\u001b[1m-\u001b[22m\u001b[39m Server to publish to                                \n",
      "    \u001b[34m--token\u001b[39m       \u001b[33m<\u001b[39m\u001b[35mtoken\u001b[39m\u001b[33m>\u001b[39m   \u001b[31m\u001b[1m-\u001b[22m\u001b[39m Access token for publising provider                 \n",
      "    \u001b[34m--no-render\u001b[39m             \u001b[31m\u001b[1m-\u001b[22m\u001b[39m Do not render before publishing.                    \n",
      "    \u001b[34m--no-prompt\u001b[39m             \u001b[31m\u001b[1m-\u001b[22m\u001b[39m Do not prompt to confirm publishing destination     \n",
      "    \u001b[34m--no-browser\u001b[39m            \u001b[31m\u001b[1m-\u001b[22m\u001b[39m Do not open a browser to the site after publishing  \n",
      "    \u001b[34m--log\u001b[39m         \u001b[33m<\u001b[39m\u001b[35mlevel\u001b[39m\u001b[33m>\u001b[39m   \u001b[31m\u001b[1m-\u001b[22m\u001b[39m Path to log file                                    \n",
      "    \u001b[34m--log-level\u001b[39m   \u001b[33m<\u001b[39m\u001b[35mlevel\u001b[39m\u001b[33m>\u001b[39m   \u001b[31m\u001b[1m-\u001b[22m\u001b[39m Log level (info, warning, error, critical)          \n",
      "    \u001b[34m--log-format\u001b[39m  \u001b[33m<\u001b[39m\u001b[35mformat\u001b[39m\u001b[33m>\u001b[39m  \u001b[31m\u001b[1m-\u001b[22m\u001b[39m Log format (plain, json-stream)                     \n",
      "    \u001b[34m--quiet\u001b[39m                 \u001b[31m\u001b[1m-\u001b[22m\u001b[39m Suppress console output.                            \n",
      "\n",
      "  \u001b[1mCommands:\u001b[22m\n",
      "\n",
      "    \u001b[34mhelp\u001b[39m  \u001b[33m[\u001b[39m\u001b[35mcommand\u001b[39m\u001b[33m]\u001b[39m  \u001b[31m\u001b[1m-\u001b[22m\u001b[39m Show this help or the help of a sub-command.\n",
      "\n",
      "  \u001b[1mExamples:\u001b[22m\n",
      "\n",
      "    \u001b[2m\u001b[1mPublish project (prompt for provider):\u001b[2m\u001b[22m  quarto publish                                                  \n",
      "    \u001b[2m\u001b[1mPublish document (prompt for provider):\u001b[2m\u001b[22m quarto publish document.qmd                                     \n",
      "    \u001b[2m\u001b[1mPublish project to Netlify:\u001b[2m\u001b[22m             quarto publish netlify                                          \n",
      "    \u001b[2m\u001b[1mPublish with explicit target:\u001b[2m\u001b[22m           quarto publish netlify --id DA36416-F950-4647-815C-01A24233E294 \n",
      "    \u001b[2m\u001b[1mPublish project to GitHub Pages:\u001b[2m\u001b[22m        quarto publish gh-pages                                         \n",
      "    \u001b[2m\u001b[1mPublish project to RStudio Connect:\u001b[2m\u001b[22m     quarto publish connect                                          \n",
      "    \u001b[2m\u001b[1mPublish with explicit credentials:\u001b[2m\u001b[22m      quarto publish connect --server example.com --token 01A24233E294\n",
      "    \u001b[2m\u001b[1mPublish without confirmation prompt:\u001b[2m\u001b[22m    quarto publish --no-prompt                                      \n",
      "    \u001b[2m\u001b[1mPublish without rendering:\u001b[2m\u001b[22m              quarto publish --no-render                                      \n",
      "    \u001b[2m\u001b[1mPublish without opening browser:\u001b[2m\u001b[22m        quarto publish --no-browser                                     \n",
      "    \u001b[2m\u001b[1mManage/remove publishing accounts:\u001b[2m\u001b[22m      quarto publish accounts                                         \n",
      "\n"
     ]
    }
   ],
   "source": [
    "!quarto publish -h"
   ]
  },
  {
   "cell_type": "code",
   "execution_count": null,
   "metadata": {},
   "outputs": [],
   "source": []
  }
 ],
 "metadata": {
  "kernelspec": {
   "display_name": "Python 3 (ipykernel)",
   "language": "python",
   "name": "python3"
  }
 },
 "nbformat": 4,
 "nbformat_minor": 4
}
